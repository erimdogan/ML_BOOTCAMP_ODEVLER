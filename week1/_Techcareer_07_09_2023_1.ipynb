{
 "cells": [
  {
   "cell_type": "markdown",
   "id": "8935bd88-eb4c-42cd-9922-564430109ed5",
   "metadata": {},
   "source": [
    "# SIRALAMA ALGORİTMALARI ÖRNEKLER"
   ]
  },
  {
   "cell_type": "code",
   "execution_count": 1,
   "id": "7dcccb53-f753-4abe-a484-8325dee981fe",
   "metadata": {
    "ExecuteTime": {
     "end_time": "2023-09-18T12:32:06.920368700Z",
     "start_time": "2023-09-18T12:32:06.634590Z"
    }
   },
   "outputs": [],
   "source": [
    "import pandas as pd ; import numpy as np "
   ]
  },
  {
   "cell_type": "code",
   "execution_count": 2,
   "id": "54293f3b-7ee5-40c5-bb58-9810867dff86",
   "metadata": {
    "ExecuteTime": {
     "end_time": "2023-09-18T12:32:06.923379900Z",
     "start_time": "2023-09-18T12:32:06.919863300Z"
    }
   },
   "outputs": [],
   "source": [
    "import random"
   ]
  },
  {
   "cell_type": "code",
   "execution_count": 3,
   "id": "94c3f7d5-551b-46fd-b3eb-01e5f02de78a",
   "metadata": {
    "ExecuteTime": {
     "end_time": "2023-09-18T12:32:06.929286800Z",
     "start_time": "2023-09-18T12:32:06.923379900Z"
    }
   },
   "outputs": [],
   "source": [
    "import sorting"
   ]
  },
  {
   "cell_type": "code",
   "execution_count": 4,
   "id": "f8e2f1f7-0335-413d-8866-a37e084707c5",
   "metadata": {
    "ExecuteTime": {
     "end_time": "2023-09-18T12:32:06.932831900Z",
     "start_time": "2023-09-18T12:32:06.931290400Z"
    }
   },
   "outputs": [],
   "source": [
    "veri=[random.randint(1,100) for _ in range(20)]"
   ]
  },
  {
   "cell_type": "code",
   "execution_count": 5,
   "id": "e81a14ce-7278-433f-8582-b810767b2ef9",
   "metadata": {
    "ExecuteTime": {
     "end_time": "2023-09-18T12:32:06.939373900Z",
     "start_time": "2023-09-18T12:32:06.935349100Z"
    }
   },
   "outputs": [
    {
     "name": "stdout",
     "output_type": "stream",
     "text": [
      "Orijinal veri seti:\n",
      "[29, 85, 66, 44, 78, 65, 85, 3, 30, 98, 43, 8, 11, 33, 40, 100, 43, 58, 64, 78]\n"
     ]
    }
   ],
   "source": [
    "print(\"Orijinal veri seti:\")\n",
    "print(veri)"
   ]
  },
  {
   "cell_type": "markdown",
   "id": "cdb3f5dc-ea00-460c-a153-6ddead5181c6",
   "metadata": {},
   "source": [
    "## bubble sort"
   ]
  },
  {
   "cell_type": "code",
   "execution_count": 6,
   "id": "4482deaf-1a10-40f9-9c2c-9e1b519b972e",
   "metadata": {
    "ExecuteTime": {
     "end_time": "2023-09-18T12:32:06.991978900Z",
     "start_time": "2023-09-18T12:32:06.941372700Z"
    }
   },
   "outputs": [
    {
     "name": "stdout",
     "output_type": "stream",
     "text": [
      "\n",
      "Bubble Sort:\n",
      "[3, 8, 11, 29, 30, 33, 40, 43, 43, 44, 58, 64, 65, 66, 78, 78, 85, 85, 98, 100]\n"
     ]
    }
   ],
   "source": [
    "bubble_sorted = veri.copy()\n",
    "sorting.bubble(bubble_sorted)\n",
    "print(\"\\nBubble Sort:\")\n",
    "print(bubble_sorted)"
   ]
  },
  {
   "cell_type": "markdown",
   "id": "37529c5c-cb71-42bb-8a5d-64f5b310e077",
   "metadata": {},
   "source": [
    "## Selection Sort"
   ]
  },
  {
   "cell_type": "code",
   "execution_count": 7,
   "id": "8f250a4b-7327-4fc5-82fc-ff97059cfb75",
   "metadata": {
    "ExecuteTime": {
     "end_time": "2023-09-18T12:32:07.007023300Z",
     "start_time": "2023-09-18T12:32:06.946792200Z"
    }
   },
   "outputs": [
    {
     "name": "stdout",
     "output_type": "stream",
     "text": [
      "\n",
      " Seçmeli Sıralama: \n",
      "[3, 8, 11, 29, 30, 33, 40, 43, 43, 44, 58, 64, 65, 66, 78, 78, 85, 85, 98, 100]\n"
     ]
    }
   ],
   "source": [
    "selection_sorted=veri.copy()\n",
    "sorting.selection(selection_sorted)\n",
    "print(\"\\n Seçmeli Sıralama: \")\n",
    "print(selection_sorted)"
   ]
  },
  {
   "cell_type": "markdown",
   "id": "8245fab0",
   "metadata": {
    "collapsed": false
   },
   "source": [
    "## Insertion Sort"
   ]
  },
  {
   "cell_type": "code",
   "execution_count": 8,
   "id": "714c2511",
   "metadata": {
    "ExecuteTime": {
     "end_time": "2023-09-18T12:37:09.692908800Z",
     "start_time": "2023-09-18T12:37:09.688959200Z"
    },
    "collapsed": false
   },
   "outputs": [],
   "source": [
    "def insertion_sort(arr):\n",
    "\n",
    "    n = len(arr)\n",
    "\n",
    "    if n<=1:\n",
    "        return arr\n",
    "\n",
    "    for i in range(1,n):\n",
    "        key = arr[i]\n",
    "        j = i-1\n",
    "\n",
    "        while j>=0 and arr[j]>key:\n",
    "            arr[j+1]=arr[j]\n",
    "            j-=1\n",
    "        arr[j+1]=key"
   ]
  },
  {
   "cell_type": "code",
   "execution_count": 9,
   "id": "c6057d8c-7f5d-4dd6-acd3-9910bf7d95cd",
   "metadata": {
    "ExecuteTime": {
     "end_time": "2023-09-18T12:37:13.452166100Z",
     "start_time": "2023-09-18T12:37:13.448654100Z"
    }
   },
   "outputs": [
    {
     "name": "stdout",
     "output_type": "stream",
     "text": [
      "\n",
      " Insertion Sort: \n",
      "[3, 8, 11, 29, 30, 33, 40, 43, 43, 44, 58, 64, 65, 66, 78, 78, 85, 85, 98, 100]\n"
     ]
    }
   ],
   "source": [
    "insertion_sorted=veri.copy()\n",
    "insertion_sort(insertion_sorted)\n",
    "print(\"\\n Insertion Sort: \")\n",
    "print(insertion_sorted)"
   ]
  },
  {
   "cell_type": "markdown",
   "id": "606893b5",
   "metadata": {
    "collapsed": false
   },
   "source": [
    "## Quick Sort"
   ]
  },
  {
   "cell_type": "code",
   "execution_count": 10,
   "id": "931cb86f",
   "metadata": {
    "ExecuteTime": {
     "end_time": "2023-09-18T13:47:51.790973700Z",
     "start_time": "2023-09-18T13:47:51.778951600Z"
    },
    "collapsed": false
   },
   "outputs": [],
   "source": [
    "def partition(arr, low, high):\n",
    "    i = (low-1)\n",
    "    pivot = arr[high]\n",
    "\n",
    "    for j in range(low,high):\n",
    "        if arr[j]<=pivot:\n",
    "            i+=1\n",
    "            arr[i],arr[j]=arr[j],arr[i]\n",
    "    arr[i+1],arr[high]=arr[high],arr[i+1]\n",
    "    return (i+1)\n",
    "\n",
    "def quick_sort(arr,low,high):\n",
    "    if low<high:\n",
    "        pi = partition(arr,low,high)\n",
    "        quick_sort(arr,low,pi-1)\n",
    "        quick_sort(arr,pi+1,high)"
   ]
  },
  {
   "cell_type": "code",
   "execution_count": 11,
   "id": "328d1492",
   "metadata": {
    "ExecuteTime": {
     "end_time": "2023-09-18T13:48:03.309584600Z",
     "start_time": "2023-09-18T13:48:03.304071600Z"
    },
    "collapsed": false
   },
   "outputs": [
    {
     "name": "stdout",
     "output_type": "stream",
     "text": [
      "\n",
      " Quick Sort: \n",
      "[3, 8, 11, 29, 30, 33, 40, 43, 43, 44, 58, 64, 65, 66, 78, 78, 85, 85, 98, 100]\n"
     ]
    }
   ],
   "source": [
    "quick_sorted=veri.copy()\n",
    "quick_sort(quick_sorted,0,len(quick_sorted)-1)\n",
    "print(\"\\n Quick Sort: \")\n",
    "print(quick_sorted)"
   ]
  },
  {
   "cell_type": "markdown",
   "id": "7e7a41fb",
   "metadata": {
    "collapsed": false
   },
   "source": [
    "## Merge Sort"
   ]
  },
  {
   "cell_type": "code",
   "execution_count": 12,
   "id": "4b4c5898",
   "metadata": {
    "ExecuteTime": {
     "end_time": "2023-09-18T13:48:30.929373700Z",
     "start_time": "2023-09-18T13:48:30.921854300Z"
    },
    "collapsed": false
   },
   "outputs": [],
   "source": [
    "def merge_sort(arr):\n",
    "    n = len(arr)\n",
    "    if n>1:\n",
    "        mid = n//2\n",
    "        left = arr[:mid]\n",
    "        right = arr[mid:]\n",
    "\n",
    "        merge_sort(left)\n",
    "        merge_sort(right)\n",
    "\n",
    "        i=j=k=0\n",
    "\n",
    "        while i<len(left) and j<len(right):\n",
    "            if left[i]<right[j]:\n",
    "                arr[k]=left[i]\n",
    "                i+=1\n",
    "            else:\n",
    "                arr[k]=right[j]\n",
    "                j+=1\n",
    "            k+=1\n",
    "\n",
    "        while i<len(left):\n",
    "            arr[k]=left[i]\n",
    "            i+=1\n",
    "            k+=1\n",
    "\n",
    "        while j<len(right):\n",
    "            arr[k]=right[j]\n",
    "            j+=1\n",
    "            k+=1\n"
   ]
  },
  {
   "cell_type": "code",
   "execution_count": 13,
   "id": "8eca60f0",
   "metadata": {
    "ExecuteTime": {
     "end_time": "2023-09-18T13:48:34.943869400Z",
     "start_time": "2023-09-18T13:48:34.937869800Z"
    },
    "collapsed": false
   },
   "outputs": [
    {
     "name": "stdout",
     "output_type": "stream",
     "text": [
      "\n",
      "Merge Sort:\n",
      "[3, 8, 11, 29, 30, 33, 40, 43, 43, 44, 58, 64, 65, 66, 78, 78, 85, 85, 98, 100]\n"
     ]
    }
   ],
   "source": [
    "merge_sorted= veri.copy()\n",
    "merge_sort(merge_sorted)\n",
    "print(\"\\nMerge Sort:\")\n",
    "print(merge_sorted)"
   ]
  },
  {
   "cell_type": "markdown",
   "id": "01a3be38",
   "metadata": {
    "collapsed": false
   },
   "source": [
    "## Heap Sort"
   ]
  },
  {
   "cell_type": "code",
   "execution_count": 14,
   "id": "666d8c26",
   "metadata": {
    "ExecuteTime": {
     "end_time": "2023-09-18T13:48:46.014471700Z",
     "start_time": "2023-09-18T13:48:46.008471500Z"
    },
    "collapsed": false
   },
   "outputs": [],
   "source": [
    "def heapify(arr,n,i):\n",
    "    largest = i\n",
    "    left = 2*i+1\n",
    "    right = 2*i+2\n",
    "\n",
    "    if left<n and arr[i]<arr[left]:\n",
    "        largest = left\n",
    "\n",
    "    if right<n and arr[largest]<arr[right]:\n",
    "        largest = right\n",
    "\n",
    "    if largest != i:\n",
    "        arr[i],arr[largest] = arr[largest],arr[i]\n",
    "        heapify(arr,n,largest)\n",
    "\n",
    "\n",
    "def heap_sort(arr):\n",
    "    n = len(arr)\n",
    "\n",
    "    for i in range(n//2-1,-1,-1):\n",
    "        heapify(arr,n,i)\n",
    "\n",
    "    for i in range(n-1,0,-1):\n",
    "        arr[i],arr[0] = arr[0],arr[i]\n",
    "        heapify(arr,i,0)"
   ]
  },
  {
   "cell_type": "code",
   "execution_count": 15,
   "id": "bf6435a1",
   "metadata": {
    "ExecuteTime": {
     "end_time": "2023-09-18T13:48:49.243393500Z",
     "start_time": "2023-09-18T13:48:49.237391Z"
    },
    "collapsed": false
   },
   "outputs": [
    {
     "name": "stdout",
     "output_type": "stream",
     "text": [
      "\n",
      "Heap Sort:\n",
      "[3, 8, 11, 29, 30, 33, 40, 43, 43, 44, 58, 64, 65, 66, 78, 78, 85, 85, 98, 100]\n"
     ]
    }
   ],
   "source": [
    "heap_sorted = veri.copy()\n",
    "heap_sort(heap_sorted)\n",
    "print(\"\\nHeap Sort:\")\n",
    "print(heap_sorted)"
   ]
  },
  {
   "cell_type": "markdown",
   "id": "8c72538f",
   "metadata": {
    "collapsed": false
   },
   "source": [
    "## Counting Sort"
   ]
  },
  {
   "cell_type": "code",
   "execution_count": 16,
   "id": "f97b05e5",
   "metadata": {
    "ExecuteTime": {
     "end_time": "2023-09-18T13:49:00.047097500Z",
     "start_time": "2023-09-18T13:49:00.039584600Z"
    },
    "collapsed": false
   },
   "outputs": [],
   "source": [
    "def counting_sort(arr):\n",
    "    output = [0 for i in range(len(arr))]\n",
    "\n",
    "    count = [0 for i in range(max(arr)+1)]\n",
    "\n",
    "    for i in arr:\n",
    "        count[i]+=1\n",
    "\n",
    "    for i in range(1,len(count)):\n",
    "        count[i]+=count[i-1]\n",
    "\n",
    "    for i in range(len(arr)-1,-1,-1):\n",
    "        output[count[arr[i]]-1] = arr[i]\n",
    "        count[arr[i]]-=1\n",
    "\n",
    "    for i in range(len(arr)):\n",
    "        arr[i] = output[i]"
   ]
  },
  {
   "cell_type": "code",
   "execution_count": 17,
   "id": "39ee97b4",
   "metadata": {
    "ExecuteTime": {
     "end_time": "2023-09-18T13:49:04.778757500Z",
     "start_time": "2023-09-18T13:49:04.771638500Z"
    },
    "collapsed": false
   },
   "outputs": [
    {
     "name": "stdout",
     "output_type": "stream",
     "text": [
      "\n",
      "Counting Sort:\n",
      "[3, 8, 11, 29, 30, 33, 40, 43, 43, 44, 58, 64, 65, 66, 78, 78, 85, 85, 98, 100]\n"
     ]
    }
   ],
   "source": [
    "counting_sorted = veri.copy()\n",
    "counting_sort(counting_sorted)\n",
    "print(\"\\nCounting Sort:\")\n",
    "print(counting_sorted)"
   ]
  },
  {
   "cell_type": "markdown",
   "id": "63fc343d",
   "metadata": {
    "collapsed": false
   },
   "source": [
    "## Radix Sort"
   ]
  },
  {
   "cell_type": "code",
   "execution_count": 18,
   "id": "a8277abc",
   "metadata": {
    "ExecuteTime": {
     "end_time": "2023-09-18T13:49:17.474520900Z",
     "start_time": "2023-09-18T13:49:17.467519100Z"
    },
    "collapsed": false
   },
   "outputs": [],
   "source": [
    "def radix_sort(arr):\n",
    "    max1 = max(arr)\n",
    "\n",
    "    exp = 1\n",
    "    while max1/exp>0:\n",
    "        counting_sort(arr)\n",
    "        exp*=10"
   ]
  },
  {
   "cell_type": "code",
   "execution_count": 19,
   "id": "9ac91100",
   "metadata": {
    "ExecuteTime": {
     "end_time": "2023-09-18T13:49:22.746764700Z",
     "start_time": "2023-09-18T13:49:22.733746600Z"
    },
    "collapsed": false
   },
   "outputs": [
    {
     "name": "stdout",
     "output_type": "stream",
     "text": [
      "\n",
      "Radix Sort:\n",
      "[3, 8, 11, 29, 30, 33, 40, 43, 43, 44, 58, 64, 65, 66, 78, 78, 85, 85, 98, 100]\n"
     ]
    }
   ],
   "source": [
    "radixed_sorted = veri.copy()\n",
    "radix_sort(radixed_sorted)\n",
    "print(\"\\nRadix Sort:\")\n",
    "print(radixed_sorted)"
   ]
  },
  {
   "cell_type": "markdown",
   "id": "92f24dec",
   "metadata": {
    "collapsed": false
   },
   "source": [
    "## Topological Sort"
   ]
  },
  {
   "cell_type": "code",
   "execution_count": 20,
   "id": "456670c8",
   "metadata": {
    "ExecuteTime": {
     "end_time": "2023-09-18T13:49:36.468295700Z",
     "start_time": "2023-09-18T13:49:36.461236100Z"
    },
    "collapsed": false
   },
   "outputs": [],
   "source": [
    "from collections import defaultdict\n",
    "\n",
    "class Graph:\n",
    "    def __init__(self):\n",
    "        self.graph = defaultdict(list)\n",
    "\n",
    "    def add_edge(self, u, v):\n",
    "        self.graph[u].append(v)\n",
    "\n",
    "    def topological_sort(self):\n",
    "        sorted_nodes = sorted(self.graph.keys())\n",
    "\n",
    "\n",
    "        return sorted_nodes"
   ]
  },
  {
   "cell_type": "code",
   "execution_count": 21,
   "id": "f22815f6",
   "metadata": {
    "ExecuteTime": {
     "end_time": "2023-09-18T13:49:40.206653700Z",
     "start_time": "2023-09-18T13:49:40.192597400Z"
    },
    "collapsed": false
   },
   "outputs": [
    {
     "name": "stdout",
     "output_type": "stream",
     "text": [
      "\n",
      "Topological Sorting:\n",
      "[3, 8, 11, 29, 30, 33, 40, 43, 44, 58, 64, 65, 66, 78, 85, 98, 100]\n"
     ]
    }
   ],
   "source": [
    "topological_sorted = veri.copy()\n",
    "graph = Graph()\n",
    "\n",
    "for i in range(len(topological_sorted)-1):\n",
    "    graph.add_edge(topological_sorted[i],topological_sorted[i+1])\n",
    "\n",
    "sorted_nodes= graph.topological_sort()\n",
    "\n",
    "print(\"\\nTopological Sorting:\")\n",
    "print(sorted_nodes)"
   ]
  },
  {
   "cell_type": "code",
   "execution_count": null,
   "metadata": {
    "collapsed": false
   },
   "outputs": [],
   "source": []
  }
 ],
 "metadata": {
  "kernelspec": {
   "display_name": "Python 3 (ipykernel)",
   "language": "python",
   "name": "python3"
  },
  "language_info": {
   "codemirror_mode": {
    "name": "ipython",
    "version": 3
   },
   "file_extension": ".py",
   "mimetype": "text/x-python",
   "name": "python",
   "nbconvert_exporter": "python",
   "pygments_lexer": "ipython3",
   "version": "3.11.3"
  }
 },
 "nbformat": 4,
 "nbformat_minor": 5
}
