{
 "cells": [
  {
   "cell_type": "markdown",
   "id": "8935bd88-eb4c-42cd-9922-564430109ed5",
   "metadata": {},
   "source": [
    "# SIRALAMA ALGORİTMALARI ÖRNEKLER"
   ]
  },
  {
   "cell_type": "code",
   "execution_count": 1,
   "id": "7dcccb53-f753-4abe-a484-8325dee981fe",
   "metadata": {},
   "outputs": [],
   "source": [
    "import pandas as pd ; import numpy as np "
   ]
  },
  {
   "cell_type": "code",
   "execution_count": 2,
   "id": "54293f3b-7ee5-40c5-bb58-9810867dff86",
   "metadata": {},
   "outputs": [],
   "source": [
    "import random"
   ]
  },
  {
   "cell_type": "code",
   "execution_count": 10,
   "id": "94c3f7d5-551b-46fd-b3eb-01e5f02de78a",
   "metadata": {},
   "outputs": [],
   "source": [
    "import sorting"
   ]
  },
  {
   "cell_type": "code",
   "execution_count": 3,
   "id": "f8e2f1f7-0335-413d-8866-a37e084707c5",
   "metadata": {},
   "outputs": [],
   "source": [
    "veri=[random.randint(1,100) for _ in range(20)]"
   ]
  },
  {
   "cell_type": "code",
   "execution_count": 4,
   "id": "e81a14ce-7278-433f-8582-b810767b2ef9",
   "metadata": {},
   "outputs": [
    {
     "name": "stdout",
     "output_type": "stream",
     "text": [
      "Orijinal veri seti:\n",
      "[56, 99, 3, 72, 57, 33, 83, 63, 82, 95, 35, 24, 58, 17, 86, 44, 12, 92, 66, 98]\n"
     ]
    }
   ],
   "source": [
    "print(\"Orijinal veri seti:\")\n",
    "print(veri)"
   ]
  },
  {
   "cell_type": "markdown",
   "id": "cdb3f5dc-ea00-460c-a153-6ddead5181c6",
   "metadata": {},
   "source": [
    "## bubble sort"
   ]
  },
  {
   "cell_type": "code",
   "execution_count": 13,
   "id": "4482deaf-1a10-40f9-9c2c-9e1b519b972e",
   "metadata": {},
   "outputs": [
    {
     "name": "stdout",
     "output_type": "stream",
     "text": [
      "\n",
      "Bubble Sort:\n",
      "[3, 12, 17, 24, 33, 35, 44, 56, 57, 58, 63, 66, 72, 82, 83, 86, 92, 95, 98, 99]\n"
     ]
    }
   ],
   "source": [
    "bubble_sorted = veri.copy()\n",
    "sorting.bubble(bubble_sorted)\n",
    "print(\"\\nBubble Sort:\")\n",
    "print(bubble_sorted)"
   ]
  },
  {
   "cell_type": "markdown",
   "id": "37529c5c-cb71-42bb-8a5d-64f5b310e077",
   "metadata": {},
   "source": [
    "## Selection Sort"
   ]
  },
  {
   "cell_type": "code",
   "execution_count": 14,
   "id": "8f250a4b-7327-4fc5-82fc-ff97059cfb75",
   "metadata": {},
   "outputs": [
    {
     "name": "stdout",
     "output_type": "stream",
     "text": [
      "\n",
      " Seçmeli Sıralama: \n",
      "[3, 12, 17, 24, 33, 35, 44, 56, 57, 58, 63, 66, 72, 82, 83, 86, 92, 95, 98, 99]\n"
     ]
    }
   ],
   "source": [
    "selection_sorted=veri.copy()\n",
    "sorting.selection(selection_sorted)\n",
    "print(\"\\n Seçmeli Sıralama: \")\n",
    "print(selection_sorted)"
   ]
  },
  {
   "cell_type": "code",
   "execution_count": null,
   "id": "c6057d8c-7f5d-4dd6-acd3-9910bf7d95cd",
   "metadata": {},
   "outputs": [],
   "source": []
  }
 ],
 "metadata": {
  "kernelspec": {
   "display_name": "Python 3 (ipykernel)",
   "language": "python",
   "name": "python3"
  },
  "language_info": {
   "codemirror_mode": {
    "name": "ipython",
    "version": 3
   },
   "file_extension": ".py",
   "mimetype": "text/x-python",
   "name": "python",
   "nbconvert_exporter": "python",
   "pygments_lexer": "ipython3",
   "version": "3.11.3"
  }
 },
 "nbformat": 4,
 "nbformat_minor": 5
}
